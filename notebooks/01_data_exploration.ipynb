{
 "cells": [
  {
   "cell_type": "markdown",
   "metadata": {},
   "source": [
    "# Cell 1: Setup"
   ]
  },
  {
   "cell_type": "code",
   "execution_count": null,
   "metadata": {},
   "outputs": [],
   "source": [
    "import pandas as pd\n",
    "import numpy as np\n",
    "import matplotlib.pyplot as plt\n",
    "import seaborn as sns\n",
    "from sklearn.preprocessing import StandardScaler\n",
    "from sklearn.model_selection import train_test_split\n",
    "import time\n",
    "import warnings\n",
    "warnings.filterwarnings('ignore')\n",
    "plt.style.use('seaborn-v0_8-darkgrid')\n",
    "sns.set_palette(\"husl\")\n",
    "start_time = time.time()\n",
    "print(\"Starting EDA...\")"
   ]
  },
  {
   "cell_type": "markdown",
   "metadata": {},
   "source": [
    "# Cell 2: Load Data"
   ]
  },
  {
   "cell_type": "code",
   "execution_count": null,
   "metadata": {},
   "outputs": [],
   "source": [
    "df = pd.read_csv('../data/creditcard.csv')\n",
    "print(f\"Shape: {df.shape}\")\n",
    "print(f\"Missing values: {df.isnull().sum().sum()}\")\n",
    "fraud_counts = df['Class'].value_counts()\n",
    "fraud_rate = (fraud_counts[1] / len(df)) * 100\n",
    "print(f\"Fraud rate: {fraud_rate:.3f}%\")"
   ]
  },
  {
   "cell_type": "markdown",
   "metadata": {},
   "source": [
    "# Cell 3: Amount Distribution Visualization"
   ]
  },
  {
   "cell_type": "code",
   "execution_count": null,
   "metadata": {},
   "outputs": [],
   "source": [
    "fig, axes = plt.subplots(1, 2, figsize=(15, 6))\n",
    "legit_amounts = df[df['Class'] == 0]['Amount']\n",
    "fraud_amounts = df[df['Class'] == 1]['Amount']\n",
    "legit_median = legit_amounts.median()\n",
    "fraud_median = fraud_amounts.median()\n",
    "\n",
    "axes[0].hist(legit_amounts, bins=50, color='blue', alpha=0.7)\n",
    "axes[0].axvline(legit_median, color='red', linestyle='--', linewidth=2)\n",
    "axes[0].set_yscale('log')\n",
    "axes[0].set_title(f'Legitimate (Median: ${legit_median:.2f})')\n",
    "\n",
    "axes[1].hist(fraud_amounts, bins=50, color='red', alpha=0.7)\n",
    "axes[1].axvline(fraud_median, color='blue', linestyle='--', linewidth=2)\n",
    "axes[1].set_yscale('log')\n",
    "axes[1].set_title(f'Fraud (Median: ${fraud_median:.2f})')\n",
    "plt.suptitle('Transaction Amount Distribution')\n",
    "plt.tight_layout()\n",
    "plt.show()"
   ]
  },
  {
   "cell_type": "markdown",
   "metadata": {},
   "source": [
    "# Cell 4: Time Pattern Analysis"
   ]
  },
  {
   "cell_type": "code",
   "execution_count": null,
   "metadata": {},
   "outputs": [],
   "source": [
    "df['Hour'] = (df['Time'] % 86400) / 3600\n",
    "fig, ax1 = plt.subplots(figsize=(14, 7))\n",
    "legit_sample = df[df['Class'] == 0].sample(n=10000, random_state=42)\n",
    "fraud_data = df[df['Class'] == 1]\n",
    "\n",
    "ax1.scatter(legit_sample['Hour'], legit_sample['Amount'], alpha=0.3, s=2, c='blue', label='Legitimate')\n",
    "ax1.scatter(fraud_data['Hour'], fraud_data['Amount'], alpha=0.8, s=10, c='red', label='Fraud')\n",
    "ax1.set_yscale('log')\n",
    "ax1.set_xlabel('Hour of Day')\n",
    "ax1.set_ylabel('Amount ($)')\n",
    "ax1.legend()\n",
    "\n",
    "hourly_fraud = df.groupby(df['Hour'].astype(int))['Class'].agg(['sum', 'count'])\n",
    "hourly_fraud['rate'] = (hourly_fraud['sum'] / hourly_fraud['count']) * 100\n",
    "peak_hours = hourly_fraud.nlargest(3, 'rate').index.tolist()\n",
    "\n",
    "ax2 = ax1.twinx()\n",
    "ax2.plot(hourly_fraud.index, hourly_fraud['rate'], 'orange', linewidth=2, marker='o')\n",
    "ax2.set_ylabel('Fraud Rate (%)', color='orange')\n",
    "plt.title('Fraud Patterns Throughout Day')\n",
    "plt.show()"
   ]
  },
  {
   "cell_type": "markdown",
   "metadata": {},
   "source": [
    "# Cell 5: Preprocessing"
   ]
  },
  {
   "cell_type": "code",
   "execution_count": null,
   "metadata": {},
   "outputs": [],
   "source": [
    "df_processed = df.copy()\n",
    "scaler = StandardScaler()\n",
    "df_processed['scaled_amount'] = scaler.fit_transform(df[['Amount']])\n",
    "df_processed['scaled_time'] = scaler.fit_transform(df[['Time']])\n",
    "df_processed = df_processed.drop(['Amount', 'Time', 'Hour'], axis=1)\n",
    "\n",
    "X = df_processed.drop('Class', axis=1)\n",
    "y = df_processed['Class']\n",
    "X_train, X_test, y_train, y_test = train_test_split(X, y, test_size=0.2, random_state=42, stratify=y)\n",
    "\n",
    "df_processed.to_csv('../data/preprocessed_creditcard.csv', index=False)\n",
    "np.save('../data/train_indices.npy', X_train.index.tolist())\n",
    "np.save('../data/test_indices.npy', X_test.index.tolist())"
   ]
  },
  {
   "cell_type": "markdown",
   "metadata": {},
   "source": [
    "# Cell 6: Summary"
   ]
  },
  {
   "cell_type": "code",
   "execution_count": null,
   "metadata": {},
   "outputs": [],
   "source": [
    "elapsed = time.time() - start_time\n",
    "print(f\"\"\"\n",
    "{'='*60}\n",
    "DATASET OVERVIEW\n",
    "{'='*60}\n",
    "Total Transactions: {len(df):,}\n",
    "Fraud Rate: {fraud_rate:.3f}%\n",
    "Legitimate Median: ${legit_median:.2f}\n",
    "Fraud Median: ${fraud_median:.2f}\n",
    "Peak Fraud Hours: {peak_hours}\n",
    "Train Size: {len(X_train):,}\n",
    "Test Size: {len(X_test):,}\n",
    "Features: {X_train.shape[1]}\n",
    "Time: {elapsed:.2f}s\n",
    "{'='*60}\n",
    "✅ Segment 1 Complete!\n",
    "\"\"\")"
   ]
  }
 ],
 "metadata": {
  "kernelspec": {
   "display_name": "Python 3",
   "language": "python",
   "name": "python3"
  },
  "language_info": {
   "codemirror_mode": {
    "name": "ipython",
    "version": 3
   },
   "file_extension": ".py",
   "mimetype": "text/x-python",
   "name": "python",
   "nbconvert_exporter": "python",
   "pygments_lexer": "ipython3",
   "version": "3.8.5"
  }
 },
 "nbformat": 4,
 "nbformat_minor": 4
}